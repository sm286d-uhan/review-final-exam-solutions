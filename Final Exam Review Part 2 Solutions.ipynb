{
 "cells": [
  {
   "cell_type": "markdown",
   "metadata": {},
   "source": [
    "<h4 class='prehead'>SM286D &middot; Introduction to Applied Mathematics with Python &middot; Spring 2020 &middot; Uhan</h4>\n",
    "\n",
    "<h1 class='lesson_title'>Exam 2 &mdash; Review Problems &mdash; Part II &mdash; Solutions</h1>"
   ]
  },
  {
   "cell_type": "markdown",
   "metadata": {},
   "source": [
    "__Instructions.__\n",
    "There are two parts to these review problems.\n",
    "You should attempt the problems in Part I without a computer.\n",
    "Part II is in this Jupyter Notebook.\n",
    "Feel free to use your class materials and the course website to attempt the problems in this part."
   ]
  },
  {
   "cell_type": "markdown",
   "metadata": {},
   "source": [
    "## Problem 9\n",
    "\n",
    "Stirling numbers of the first kind, written as $s(n,k)$, can be defined recursively by setting $s(0,0)=1$ and $s(n,0)=0$ for all $n>0$ and\n",
    "\n",
    "\\begin{equation*} \n",
    "s(n,k)=(n-1)s(n-1,k)+s(n-1,k-1) .\n",
    "\\end{equation*}\n",
    "\n",
    "Write a function that will compute $s(n,k)$ using this recursion and compute $s(10,3)$ (You should get 2562156)."
   ]
  },
  {
   "cell_type": "code",
   "execution_count": 1,
   "metadata": {},
   "outputs": [
    {
     "data": {
      "text/plain": [
       "2562156"
      ]
     },
     "execution_count": 1,
     "metadata": {},
     "output_type": "execute_result"
    }
   ],
   "source": [
    "def stir(n, k):\n",
    "    \"\"\"\n",
    "    Compute Stirling number of the first kind\n",
    "    \"\"\"\n",
    "    # s(0, 0) = 1\n",
    "    if n == 0:\n",
    "        return 1\n",
    "    \n",
    "    # s(n, 0) = 0 for all n > 0\n",
    "    elif k == 0:\n",
    "        return 0\n",
    "    \n",
    "    # Otherwise\n",
    "    else:\n",
    "        return (n - 1) * stir(n - 1, k) + stir(n - 1, k - 1)\n",
    "    \n",
    "stir(10, 3)     "
   ]
  },
  {
   "cell_type": "markdown",
   "metadata": {},
   "source": [
    "## Problem 10\n",
    "\n",
    "Write code to make the following matrix:\n",
    "\n",
    "\\begin{equation*}\n",
    "A=\\left[ \\begin{array}{cccccc}\n",
    "0 & 1 & 2 & 3 & \\cdots & 9\\\\\n",
    "1 & 2 & 3 & 4 &\\cdots &0\\\\\n",
    "2 & 3 & 4  & 5&\\cdots &1\\\\\n",
    "&\\vdots &&&\\ddots &2\\\\\n",
    "&\\vdots &&&\\ddots &\\vdots\\\\\n",
    "9 &0 & 1 &2& \\cdots &8\n",
    "\\end{array}\\right]\n",
    "\\end{equation*}"
   ]
  },
  {
   "cell_type": "code",
   "execution_count": 2,
   "metadata": {},
   "outputs": [
    {
     "name": "stdout",
     "output_type": "stream",
     "text": [
      "[[0. 1. 2. 3. 4. 5. 6. 7. 8. 9.]\n",
      " [1. 2. 3. 4. 5. 6. 7. 8. 9. 0.]\n",
      " [2. 3. 4. 5. 6. 7. 8. 9. 0. 1.]\n",
      " [3. 4. 5. 6. 7. 8. 9. 0. 1. 2.]\n",
      " [4. 5. 6. 7. 8. 9. 0. 1. 2. 3.]\n",
      " [5. 6. 7. 8. 9. 0. 1. 2. 3. 4.]\n",
      " [6. 7. 8. 9. 0. 1. 2. 3. 4. 5.]\n",
      " [7. 8. 9. 0. 1. 2. 3. 4. 5. 6.]\n",
      " [8. 9. 0. 1. 2. 3. 4. 5. 6. 7.]\n",
      " [9. 0. 1. 2. 3. 4. 5. 6. 7. 8.]]\n"
     ]
    }
   ],
   "source": [
    "import numpy as np\n",
    "\n",
    "A = np.zeros([10, 10])\n",
    "\n",
    "for i in range(10):\n",
    "    for j in range(10):\n",
    "        A[i, j] = (i + j) % 10\n",
    "\n",
    "print(A)"
   ]
  },
  {
   "cell_type": "markdown",
   "metadata": {},
   "source": [
    "## Problem 11\n",
    "\n",
    "Write scripts to graph $\\sin x$ for $-\\pi \\leq x \\leq \\pi$ and \n",
    "the first two Taylor polynomial approximations \n",
    "$T_3 = x - \\displaystyle\\frac{x^3}{3!}$ and \n",
    "$T_5 = x - \\displaystyle\\frac{x^3}{3!}+\\frac{x^5}{5!}$.\n",
    "\n",
    "Use different colors for each of the three curves and \n",
    "label the axes and give a title."
   ]
  },
  {
   "cell_type": "code",
   "execution_count": 3,
   "metadata": {},
   "outputs": [
    {
     "data": {
      "image/png": "[encoded data removed]",
      "text/plain": [
       "<Figure size 432x288 with 1 Axes>"
      ]
     },
     "metadata": {
      "needs_background": "light"
     },
     "output_type": "display_data"
    }
   ],
   "source": [
    "import math\n",
    "import numpy as np\n",
    "import matplotlib.pyplot as plt\n",
    "\n",
    "# Create a figure\n",
    "fig = plt.figure()\n",
    "\n",
    "# Draw axes on the figure\n",
    "ax = fig.add_subplot(1, 1, 1)\n",
    "\n",
    "# Create list of values on the x-axis\n",
    "t = np.linspace(-np.pi, np.pi, 100)\n",
    "\n",
    "# Create list of corresponding y values\n",
    "sin_t = [math.sin(x) for x in t]\n",
    "taylor_3 = [x - (x ** 3) / 6 for x in t]\n",
    "taylor_5 = [x - (x ** 3) + (x ** 5) / 120 for x in t]\n",
    "\n",
    "# Plot the data on the axes\n",
    "# label keyword arguments are used for legend\n",
    "ax.plot(t, sin_t, 'g', label='$\\sin(x)$')\n",
    "ax.plot(t, taylor_3, 'r', label='$T_3$')\n",
    "ax.plot(t, taylor_5, 'b', label='$T_5$')\n",
    "\n",
    "# Label the axes\n",
    "ax.set_xlabel('x')\n",
    "ax.set_ylabel('y')\n",
    "\n",
    "# Give the axes a legend\n",
    "# Uses label keyword arguments in ax.plot\n",
    "ax.legend()\n",
    "\n",
    "# Give the plot a title\n",
    "ax.set_title(\"Graph of sin(x) and its first two Taylor approximations\")\n",
    "\n",
    "# Show the figure\n",
    "plt.show()"
   ]
  },
  {
   "cell_type": "markdown",
   "metadata": {},
   "source": [
    "## Problem 12\n",
    "\n",
    "Write code to generate the sequence of numbers `L = [1, 12, 123, 1234, ... , 123456789]`. Then write code to remove all the elements of this list that are divisible by 3."
   ]
  },
  {
   "cell_type": "code",
   "execution_count": 4,
   "metadata": {},
   "outputs": [
    {
     "name": "stdout",
     "output_type": "stream",
     "text": [
      "This is the first version of L\n",
      "[1, 12, 123, 1234, 12345, 123456, 1234567, 12345678, 123456789]\n",
      "This is the final version of L\n",
      "[1, 1234, 1234567]\n"
     ]
    }
   ],
   "source": [
    "L = []\n",
    "\n",
    "# Create numbers as strings, then convert to integers\n",
    "make_num = ''\n",
    "for i in range(1, 10):\n",
    "    make_num = f\"{make_num}{str(i)}\"\n",
    "    num = int(make_num)\n",
    "    L.append(num)\n",
    "\n",
    "print(\"This is the first version of L\")\n",
    "print(L)\n",
    "    \n",
    "# Create list of numbers to remove    \n",
    "removes = []        \n",
    "for x in L:\n",
    "    if x % 3 == 0:\n",
    "        removes.append(x)\n",
    "\n",
    "# Remove the numbers\n",
    "for a in removes:\n",
    "    L.remove(a)   \n",
    "\n",
    "print(\"This is the final version of L\")\n",
    "print(L)"
   ]
  },
  {
   "cell_type": "markdown",
   "metadata": {},
   "source": [
    "## Problem 13\n",
    "\n",
    "In this problem you are to use simulation to estimate the probability that two random points inside the unit circle (radius 1) are distance 1 from each other. To do this problem follow these steps:\n",
    "\n",
    " - Use the `random` package with the command `random.uniform(a, b)` to generate a list of 300 pseudo-randomly generated points inside the unit circle.\n",
    "\n",
    " - Generate a list of the distances between all pairs of elements from the list you made based on the first bullet-point.\n",
    "\n",
    " - Now compute the proportion of the paired distances that are smaller than 1. This gives our desired estimate."
   ]
  },
  {
   "cell_type": "code",
   "execution_count": 5,
   "metadata": {},
   "outputs": [],
   "source": [
    "# First bullet point\n",
    "import random\n",
    "\n",
    "points = []\n",
    "# You could use a for loop here as well!\n",
    "while len(points) < 300:\n",
    "    # Generate random point (x, y)\n",
    "    x = random.uniform(-1, 1)\n",
    "    y = random.uniform(-1, 1)\n",
    "    \n",
    "    # Check if (x, y) is inside the circle x^2 + y^2 = 1\n",
    "    if x ** 2 + y ** 2 <= 1:\n",
    "        points.append((x, y))"
   ]
  },
  {
   "cell_type": "code",
   "execution_count": 6,
   "metadata": {},
   "outputs": [],
   "source": [
    "# Second bullet point\n",
    "import math\n",
    "\n",
    "dists = []\n",
    "\n",
    "# Iterate over all pairs of points\n",
    "for a in points:\n",
    "    for b in points:\n",
    "        \n",
    "        # Don't compute distance between the same point\n",
    "        if points.index(a) != points.index(b):\n",
    "            \n",
    "            # Distance formula\n",
    "            d = math.sqrt((a[0] - b[0]) ** 2 + (a[1] - b[1]) ** 2)\n",
    "            dists.append(d)"
   ]
  },
  {
   "cell_type": "code",
   "execution_count": 7,
   "metadata": {},
   "outputs": [
    {
     "name": "stdout",
     "output_type": "stream",
     "text": [
      "0.5756521739130435\n"
     ]
    }
   ],
   "source": [
    "# Third bullet point\n",
    "# Iterate over all distances\n",
    "# Count the ones that are less than 1\n",
    "counter = 0\n",
    "for d in dists:\n",
    "    if d <= 1:\n",
    "        counter += 1\n",
    "        \n",
    "# Compute the fraction of distances less than 1\n",
    "estimate_prob = counter / len(dists)\n",
    "\n",
    "print(estimate_prob)"
   ]
  },
  {
   "cell_type": "markdown",
   "metadata": {},
   "source": [
    "## Problem 14\n",
    "\n",
    "The website `fivethirtyeight.com` is a news website that makes careful use of statistics. It studies topics ranging from political polling data to sports data. They post a large amount of their data on the site `data.fivethirtyeight.com`. This problem comes from an article they wrote on NFL game predictions. The goal of this problem is to make a list of the average winning margin in games for each year. Accomplish this via the following steps.\n",
    "\n",
    " - Import the `xlwings` package. The file `nfl_538.xlsx` should be in the same folder as this Jupyter notebook. Load it into Python, and load the main sheet into Python.\n",
    "\n",
    " - Make a list consisting of all the values column B, which is all the season years. Then record the positions in this list where the season changes. This will be used below to gather the data for each year separately.\n",
    "\n",
    " - Make a list of the winning margin in each game, that is, the absolute value of the difference of the scores for each team. The scores are in columns M and N.\n",
    "\n",
    " - Now make a list of the average winning margins for each year.\n",
    "\n",
    " - Make a dictionary where the keys are years and the values are the average winning margin for that year. \n",
    "\n",
    " - Use your dictionary from the previous bullet point to find four numbers: the average winning margin for all years in the 1970s, 1980s, 1990s, and 2000s."
   ]
  },
  {
   "cell_type": "code",
   "execution_count": 8,
   "metadata": {},
   "outputs": [],
   "source": [
    "# First bullet point\n",
    "import xlwings as xw\n",
    "\n",
    "wb = xw.Book('nfl_538.xlsx')        \n",
    "sht = wb.sheets['nfl_538']   "
   ]
  },
  {
   "cell_type": "code",
   "execution_count": 9,
   "metadata": {},
   "outputs": [],
   "source": [
    "# Second bullet point\n",
    "season_list = sht.range('B2').expand('down').value\n",
    "season_change_index = []\n",
    "\n",
    "for i in range(len(season_list) - 1):\n",
    "    if season_list[i] != season_list[i + 1]:\n",
    "        season_change_index.append(i)\n",
    "\n",
    "# Need to put the last index in\n",
    "season_change_index.append(i + 1)"
   ]
  },
  {
   "cell_type": "code",
   "execution_count": 10,
   "metadata": {},
   "outputs": [],
   "source": [
    "# Third bullet point\n",
    "import numpy as np\n",
    "\n",
    "team1_scrs = sht.range('M2').expand('down').value\n",
    "team2_scrs = sht.range('N2').expand('down').value\n",
    "\n",
    "diffs = []\n",
    "for i in range(len(team1_scrs)):\n",
    "    d = np.abs(team1_scrs[i] - team2_scrs[i])\n",
    "    diffs.append(d)"
   ]
  },
  {
   "cell_type": "code",
   "execution_count": 11,
   "metadata": {},
   "outputs": [],
   "source": [
    "# Fourth bullet point\n",
    "ave_diffs = [] \n",
    "for i in range(len(season_change_index) - 1):\n",
    "    s = (sum(diffs[season_change_index[i]:season_change_index[i+1]]) / \n",
    "         (season_change_index[i + 1] - season_change_index[i]))\n",
    "    ave_diffs.append(s)\n",
    "         \n",
    "# Need to add the last year\n",
    "s = (sum(diffs[season_change_index[-1]:len(diffs) + 1]) / \n",
    "     (-season_change_index[-1] + len(diffs) + 1))\n",
    "ave_diffs.append(s)"
   ]
  },
  {
   "cell_type": "code",
   "execution_count": 12,
   "metadata": {},
   "outputs": [],
   "source": [
    "# Fifth bullet point\n",
    "year_scrs = {}\n",
    "\n",
    "counter = 0\n",
    "for index in season_change_index:\n",
    "    yr = season_list[index]\n",
    "    year_scrs[yr] = ave_diffs[counter]\n",
    "    counter += 1"
   ]
  },
  {
   "cell_type": "code",
   "execution_count": 13,
   "metadata": {},
   "outputs": [
    {
     "name": "stdout",
     "output_type": "stream",
     "text": [
      "12.223291229240616\n",
      "11.878478702764367\n",
      "11.48873026091641\n",
      "11.808196318308676\n"
     ]
    }
   ],
   "source": [
    "# Sixth bullet point\n",
    "s = 0\n",
    "for i in range(1970, 1980):\n",
    "    s += year_scrs[i]\n",
    "average_1970s = s / 10\n",
    "print(average_1970s)\n",
    "\n",
    "s = 0\n",
    "for i in range(1980, 1990):\n",
    "    s += year_scrs[i]\n",
    "average_1980s = s / 10\n",
    "print(average_1980s)\n",
    "\n",
    "s = 0\n",
    "for i in range(1990, 2000):\n",
    "    s += year_scrs[i]\n",
    "average_1990s = s / 10\n",
    "print(average_1990s)\n",
    "\n",
    "s = 0\n",
    "for i in range(2000, 2010):\n",
    "    s += year_scrs[i]\n",
    "average_2000s = s / 10\n",
    "print(average_2000s)"
   ]
  }
 ],
 "metadata": {
  "kernelspec": {
   "display_name": "Python 3",
   "language": "python",
   "name": "python3"
  },
  "language_info": {
   "codemirror_mode": {
    "name": "ipython",
    "version": 3
   },
   "file_extension": ".py",
   "mimetype": "text/x-python",
   "name": "python",
   "nbconvert_exporter": "python",
   "pygments_lexer": "ipython3",
   "version": "3.7.6"
  }
 },
 "nbformat": 4,
 "nbformat_minor": 2
}
